{
 "cells": [
  {
   "cell_type": "code",
   "execution_count": 12,
   "metadata": {},
   "outputs": [],
   "source": [
    "import inspect\n",
    "from typing import Any, TypedDict, Unpack\n",
    "\n",
    "from discord import Interaction"
   ]
  },
  {
   "cell_type": "code",
   "execution_count": 13,
   "metadata": {},
   "outputs": [
    {
     "data": {
      "text/plain": [
       "mappingproxy({'self': <Parameter \"self\">,\n",
       "              'interaction': <Parameter \"interaction: discord.interactions.Interaction\">,\n",
       "              'kwargs': <Parameter \"**kwargs: Unpack[__main__.Params]\">})"
      ]
     },
     "execution_count": 13,
     "metadata": {},
     "output_type": "execute_result"
    }
   ],
   "source": [
    "func: Any\n",
    "\n",
    "\n",
    "def command():\n",
    "    def decorator(f):\n",
    "        global func\n",
    "        func = f\n",
    "        return f\n",
    "\n",
    "    return decorator\n",
    "\n",
    "\n",
    "class Params(TypedDict):\n",
    "    arg: str\n",
    "\n",
    "\n",
    "class Cog:\n",
    "    @command()\n",
    "    async def command(self, interaction: Interaction, **kwargs: Unpack[Params]):\n",
    "        pass\n",
    "\n",
    "\n",
    "inspect.signature(func).parameters"
   ]
  }
 ],
 "metadata": {
  "kernelspec": {
   "display_name": ".venv",
   "language": "python",
   "name": "python3"
  },
  "language_info": {
   "codemirror_mode": {
    "name": "ipython",
    "version": 3
   },
   "file_extension": ".py",
   "mimetype": "text/x-python",
   "name": "python",
   "nbconvert_exporter": "python",
   "pygments_lexer": "ipython3",
   "version": "3.12.9"
  }
 },
 "nbformat": 4,
 "nbformat_minor": 2
}
